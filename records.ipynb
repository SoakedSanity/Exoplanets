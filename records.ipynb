{
 "cells": [
  {
   "cell_type": "code",
   "execution_count": 1,
   "metadata": {},
   "outputs": [
    {
     "name": "stdout",
     "output_type": "stream",
     "text": [
      "This programme is able to find known exoplanet record holders on selected characteristics.\n",
      "Select one of the following characteristics by typing the correct number:\n",
      "Type 1 to get exoplanets with the longest orbital period [measured in days]\n",
      "Type 2 to get the most massive exoplanets [measured in Earth mass units]\n",
      "Type 3 to get exoplanets with the largest eccentricity (the most elongated exoplanetary orbits)\n",
      "Type 4 to get exoplanets, which are the furthest from Earth by distance [measured in parsecs]\n"
     ]
    }
   ],
   "source": [
    "print(\"This programme is able to find known exoplanet record holders on selected characteristics.\")\n",
    "print(\"Select one of the following characteristics by typing the correct number:\")\n",
    "print(\"Type 1 to get exoplanets with the longest orbital period [measured in days]\")\n",
    "print(\"Type 2 to get the most massive exoplanets [measured in Earth mass units]\")\n",
    "print(\"Type 3 to get exoplanets with the largest eccentricity (the most elongated exoplanetary orbits)\")\n",
    "print(\"Type 4 to get exoplanets, which are the furthest from Earth by distance [measured in parsecs]\")\n",
    "\n"
   ]
  },
  {
   "cell_type": "code",
   "execution_count": 1,
   "metadata": {},
   "outputs": [
    {
     "name": "stdout",
     "output_type": "stream",
     "text": [
      "Finding the most massive exoplanets...\n",
      "------------------------------------------------\n",
      "Exoplanet #1: OGLE-2014-BLG-0221L b\n",
      "Mass: 30721.29382 Earth masses.\n",
      "------------------------------------------------\n",
      "Exoplanet #2: VHS J125601.92-125723.9 b\n",
      "Mass: 23837.25 Earth masses.\n",
      "------------------------------------------------\n",
      "Exoplanet #3: KMT-2018-BLG-0885L b\n",
      "Mass: 22883.64531 Earth masses.\n",
      "------------------------------------------------\n",
      "Exoplanet #4: PZ Tel b\n",
      "Mass: 16527.07717 Earth masses.\n",
      "------------------------------------------------\n",
      "Exoplanet #5: KMT-2021-BLG-1770L b\n",
      "Mass: 15891.42035 Earth masses.\n",
      "------------------------------------------------\n",
      "Exoplanet #6: HD 26161 b\n",
      "Mass: 15417.53819 Earth masses.\n",
      "------------------------------------------------\n",
      "Exoplanet #7: MOA-2015-BLG-337L b\n",
      "Mass: 15290.0 Earth masses.\n",
      "------------------------------------------------\n",
      "Exoplanet #8: MOA-2019-BLG-008L b\n",
      "Mass: 14937.93513 Earth masses.\n",
      "------------------------------------------------\n",
      "Exoplanet #9: HD 457 b\n",
      "Mass: 14397.626839999999 Earth masses.\n",
      "------------------------------------------------\n",
      "Exoplanet #10: HR 2562 b\n",
      "Mass: 14302.349999999999 Earth masses.\n",
      "------------------------------------------------\n",
      "Exoplanet #11: KMT-2019-BLG-0335L b\n",
      "Mass: 13984.44991 Earth masses.\n",
      "------------------------------------------------\n",
      "Exoplanet #12: GQ Lup b\n",
      "Mass: 13031.029999999999 Earth masses.\n",
      "------------------------------------------------\n",
      "Exoplanet #13: KMT-2016-BLG-2142L b\n",
      "Mass: 12866.0 Earth masses.\n",
      "------------------------------------------------\n",
      "Exoplanet #14: HD 206893 b\n",
      "Mass: 12713.13628 Earth masses.\n",
      "------------------------------------------------\n",
      "Exoplanet #15: HD 110537 b\n",
      "Mass: 12666.733330000001 Earth masses.\n",
      "------------------------------------------------\n",
      "Exoplanet #16: 2MASS J11011926-7732383 b\n",
      "Mass: 12077.47947 Earth masses.\n",
      "------------------------------------------------\n",
      "Exoplanet #17: HD 125390 b\n",
      "Mass: 11886.78242 Earth masses.\n"
     ]
    }
   ],
   "source": [
    "char = 0\n",
    "while char < 1 or char > 4:\n",
    "    char = int(input())\n",
    "    if char < 1 or char > 4:\n",
    "        print(\"You must select one of the listed variants! There will be more options in the future!\")\n",
    "\n",
    "iter = int(input(\"Now select how many exoplanet record holders you want to see: \"))\n",
    "\n",
    "if char == 1:\n",
    "    print(\"Finding exoplanets with the longest orbital period...\")\n",
    "if char == 2:\n",
    "    print(\"Finding the most massive exoplanets...\")\n",
    "if char == 3:\n",
    "    print(\"Finding exoplanets with the largest eccentricity...\")\n",
    "if char == 4:\n",
    "    print(\"Finding exoplanets, which are the furthest from Earth by distance...\")\n",
    "\n",
    "# Excluding all unnessesary data.\n",
    "\n",
    "file1 = open('ExoplanetDataset/Exo_Cut.txt', \"r\")\n",
    "content = file1.readlines()\n",
    "file1.close()\n",
    "\n",
    "names = []\n",
    "values = []\n",
    "for s in content:\n",
    "    s1 = s.split(\", \")\n",
    "    names.append(s1[0])\n",
    "    values.append(float(s1[char*2-1]))\n",
    "\n",
    "values, names = zip(*sorted(zip(values, names)))\n",
    "\n",
    "# print(names)\n",
    "# print(values)\n",
    "\n",
    "label = [['Orbital period: ', ' days.'], ['Mass: ', ' Earth masses.'], [\"Eccentricity: \", \"3\"], [\"Distance: \", \" parsecs.\"]]\n",
    "already_listed = []\n",
    "\n",
    "x = 0\n",
    "number = 1\n",
    "while len(already_listed) < iter:\n",
    "    if names[-1-x] not in already_listed:\n",
    "        already_listed.append(names[-1-x])\n",
    "        print(\"------------------------------------------------\")\n",
    "        print(\"Exoplanet #\" + str(number) + \": \" + str(names[-1-x]))\n",
    "        print(label[char-1][0] + str(values[-1-x]) + label[char-1][1])\n",
    "        number += 1\n",
    "    x += 1"
   ]
  }
 ],
 "metadata": {
  "kernelspec": {
   "display_name": "base",
   "language": "python",
   "name": "python3"
  },
  "language_info": {
   "codemirror_mode": {
    "name": "ipython",
    "version": 3
   },
   "file_extension": ".py",
   "mimetype": "text/x-python",
   "name": "python",
   "nbconvert_exporter": "python",
   "pygments_lexer": "ipython3",
   "version": "3.12.4"
  }
 },
 "nbformat": 4,
 "nbformat_minor": 2
}
